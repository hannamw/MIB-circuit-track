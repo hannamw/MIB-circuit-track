{
 "cells": [
  {
   "cell_type": "code",
   "execution_count": null,
   "metadata": {},
   "outputs": [],
   "source": [
    "from functools import partial\n",
    "\n",
    "from torch.utils.data import DataLoader\n",
    "from transformer_lens import HookedTransformer\n",
    "from datasets import load_dataset\n",
    "\n",
    "from eap.attribute import attribute\n",
    "from eap.graph import Graph\n",
    "from eap.evaluate import evaluate_graph, evaluate_baseline\n",
    "from mib_evaluations import evaluate_area_under_curve\n",
    "from dataset import HFEAPDataset\n",
    "from metrics import get_metric"
   ]
  },
  {
   "cell_type": "code",
   "execution_count": 2,
   "metadata": {},
   "outputs": [
    {
     "name": "stdout",
     "output_type": "stream",
     "text": [
      "Loaded pretrained model gpt2-small into HookedTransformer\n"
     ]
    }
   ],
   "source": [
    "model = HookedTransformer.from_pretrained(\"gpt2-small\", device=\"cuda\")\n",
    "model.cfg.use_split_qkv_input = True\n",
    "model.cfg.use_attn_result = True\n",
    "model.cfg.use_hook_mlp_in = True"
   ]
  },
  {
   "cell_type": "code",
   "execution_count": null,
   "metadata": {},
   "outputs": [],
   "source": [
    "dataset = HFEAPDataset(\"mech-interp-bench/ioi\", model.tokenizer)\n",
    "dataloader = dataset.to_dataloader(64)\n",
    "metric_fn = get_metric(\"logit_diff\", \"ioi\", model.tokenizer, model)"
   ]
  },
  {
   "cell_type": "code",
   "execution_count": 4,
   "metadata": {},
   "outputs": [
    {
     "name": "stderr",
     "output_type": "stream",
     "text": [
      "100%|██████████| 32491/32491 [00:00<00:00, 214067.58it/s]\n"
     ]
    }
   ],
   "source": [
    "g = Graph.from_model(model)\n",
    "attribute(model, g, dataloader, partial(metric_fn, loss=True, mean=True), method='EAP-IG-inputs', ig_steps=5, quiet=True)"
   ]
  },
  {
   "cell_type": "code",
   "execution_count": 5,
   "metadata": {},
   "outputs": [
    {
     "name": "stderr",
     "output_type": "stream",
     "text": [
      "100%|██████████| 16/16 [00:11<00:00,  1.44it/s]\n",
      "100%|██████████| 32491/32491 [00:00<00:00, 225823.29it/s]\n",
      "100%|██████████| 16/16 [00:02<00:00,  6.46it/s]\n",
      "100%|██████████| 16/16 [00:01<00:00, 14.72it/s]\n"
     ]
    },
    {
     "name": "stdout",
     "output_type": "stream",
     "text": [
      "Faithfulness: 0.923550621209393\n"
     ]
    }
   ],
   "source": [
    "g = Graph.from_model(model)\n",
    "attribute(model, g, dataloader, partial(metric_fn, loss=True, mean=True), method='EAP-IG-inputs', ig_steps=5)\n",
    "g.apply_greedy(250)\n",
    "results = evaluate_graph(model, g, dataloader, partial(metric_fn, loss=False, mean=False), prune=True).mean().item()\n",
    "baseline = evaluate_baseline(model, dataloader, partial(metric_fn, loss=False, mean=False)).mean().item()\n",
    "print(f\"Faithfulness: {results / baseline}\")\n",
    "g.to_pt(\"circuits/greater-than_prob_diff_ig.pt\")"
   ]
  },
  {
   "cell_type": "code",
   "execution_count": 6,
   "metadata": {},
   "outputs": [],
   "source": [
    "mean_dataset = load_dataset('stas/openwebtext-10k', split='train')"
   ]
  },
  {
   "cell_type": "code",
   "execution_count": 7,
   "metadata": {},
   "outputs": [],
   "source": [
    "intervention_dataloader = DataLoader(mean_dataset['text'][:1000], batch_size=16)"
   ]
  },
  {
   "cell_type": "code",
   "execution_count": 8,
   "metadata": {},
   "outputs": [
    {
     "name": "stderr",
     "output_type": "stream",
     "text": [
      "Computing mean: 100%|██████████| 16/16 [00:02<00:00,  5.79it/s]\n",
      "100%|██████████| 16/16 [00:02<00:00,  7.83it/s]"
     ]
    },
    {
     "name": "stdout",
     "output_type": "stream",
     "text": [
      "Faithfulness: 0.9599007763104539\n"
     ]
    },
    {
     "name": "stderr",
     "output_type": "stream",
     "text": [
      "\n"
     ]
    }
   ],
   "source": [
    "results2 = evaluate_graph(model, g, dataloader, partial(metric_fn, loss=False, mean=False), prune=True, intervention='mean-positional', intervention_dataloader=dataloader).mean().item()\n",
    "print(f\"Faithfulness: {results2 / baseline}\")"
   ]
  },
  {
   "cell_type": "code",
   "execution_count": 19,
   "metadata": {},
   "outputs": [
    {
     "name": "stderr",
     "output_type": "stream",
     "text": [
      "100%|██████████| 16/16 [00:01<00:00, 13.87it/s]\n"
     ]
    },
    {
     "name": "stdout",
     "output_type": "stream",
     "text": [
      "Computing results for 0.1% of edges (N=32)\n"
     ]
    },
    {
     "name": "stderr",
     "output_type": "stream",
     "text": [
      "Computing mean: 100%|██████████| 16/16 [00:02<00:00,  5.53it/s]\n",
      "100%|██████████| 16/16 [00:01<00:00, 12.01it/s]\n"
     ]
    },
    {
     "name": "stdout",
     "output_type": "stream",
     "text": [
      "0.8483858217574802\n",
      "Computing results for 0.2% of edges (N=64)\n"
     ]
    },
    {
     "name": "stderr",
     "output_type": "stream",
     "text": [
      "Computing mean: 100%|██████████| 16/16 [00:02<00:00,  5.53it/s]\n",
      "100%|██████████| 16/16 [00:01<00:00, 10.49it/s]\n"
     ]
    },
    {
     "name": "stdout",
     "output_type": "stream",
     "text": [
      "0.8747131106143583\n",
      "Computing results for 0.5% of edges (N=162)\n"
     ]
    },
    {
     "name": "stderr",
     "output_type": "stream",
     "text": [
      "Computing mean: 100%|██████████| 16/16 [00:02<00:00,  5.61it/s]\n",
      "100%|██████████| 16/16 [00:01<00:00,  9.44it/s]\n"
     ]
    },
    {
     "name": "stdout",
     "output_type": "stream",
     "text": [
      "0.9573824152433821\n",
      "Computing results for 1.0% of edges (N=324)\n"
     ]
    },
    {
     "name": "stderr",
     "output_type": "stream",
     "text": [
      "Computing mean: 100%|██████████| 16/16 [00:02<00:00,  5.71it/s]\n",
      "100%|██████████| 16/16 [00:02<00:00,  6.81it/s]\n"
     ]
    },
    {
     "name": "stdout",
     "output_type": "stream",
     "text": [
      "0.9691415496638135\n",
      "Computing results for 2.0% of edges (N=649)\n"
     ]
    },
    {
     "name": "stderr",
     "output_type": "stream",
     "text": [
      "Computing mean: 100%|██████████| 16/16 [00:02<00:00,  5.68it/s]\n",
      "100%|██████████| 16/16 [00:02<00:00,  5.55it/s]\n"
     ]
    },
    {
     "name": "stdout",
     "output_type": "stream",
     "text": [
      "0.8993753504229962\n",
      "Computing results for 5.0% of edges (N=1624)\n"
     ]
    },
    {
     "name": "stderr",
     "output_type": "stream",
     "text": [
      "Computing mean: 100%|██████████| 16/16 [00:02<00:00,  5.66it/s]\n",
      "100%|██████████| 16/16 [00:03<00:00,  4.36it/s]\n"
     ]
    },
    {
     "name": "stdout",
     "output_type": "stream",
     "text": [
      "0.9563609733817594\n",
      "Computing results for 10.0% of edges (N=3249)\n"
     ]
    },
    {
     "name": "stderr",
     "output_type": "stream",
     "text": [
      "Computing mean: 100%|██████████| 16/16 [00:02<00:00,  5.56it/s]\n",
      "100%|██████████| 16/16 [00:04<00:00,  3.60it/s]\n"
     ]
    },
    {
     "name": "stdout",
     "output_type": "stream",
     "text": [
      "0.9089669493473166\n",
      "Computing results for 20.0% of edges (N=6498)\n"
     ]
    },
    {
     "name": "stderr",
     "output_type": "stream",
     "text": [
      "Computing mean: 100%|██████████| 16/16 [00:02<00:00,  5.52it/s]\n",
      "100%|██████████| 16/16 [00:04<00:00,  3.43it/s]\n"
     ]
    },
    {
     "name": "stdout",
     "output_type": "stream",
     "text": [
      "0.9208838198631831\n",
      "Computing results for 50.0% of edges (N=16245)\n"
     ]
    },
    {
     "name": "stderr",
     "output_type": "stream",
     "text": [
      "Computing mean: 100%|██████████| 16/16 [00:03<00:00,  4.24it/s]\n",
      "100%|██████████| 16/16 [00:05<00:00,  3.03it/s]\n"
     ]
    },
    {
     "name": "stdout",
     "output_type": "stream",
     "text": [
      "0.9444015763362187\n",
      "Computing results for 100% of edges (N=32491)\n"
     ]
    },
    {
     "name": "stderr",
     "output_type": "stream",
     "text": [
      "Computing mean: 100%|██████████| 16/16 [00:02<00:00,  5.70it/s]\n",
      "100%|██████████| 16/16 [00:05<00:00,  2.83it/s]"
     ]
    },
    {
     "name": "stdout",
     "output_type": "stream",
     "text": [
      "1.0\n"
     ]
    },
    {
     "name": "stderr",
     "output_type": "stream",
     "text": [
      "\n"
     ]
    }
   ],
   "source": [
    "area_under, area_from_100, average, faithfulnesses = evaluate_area_under_curve(model, g, dataloader, partial(metric_fn, loss=False, mean=False), prune=True, quiet=False, node_eval=False, neuron_level=False,\n",
    "log_scale=True, absolute=True, intervention='mean-positional', intervention_dataloader=dataloader)"
   ]
  },
  {
   "cell_type": "code",
   "execution_count": 18,
   "metadata": {},
   "outputs": [
    {
     "name": "stderr",
     "output_type": "stream",
     "text": [
      "Computing mean: 100%|██████████| 16/16 [00:04<00:00,  3.83it/s]\n",
      "100%|██████████| 16/16 [00:01<00:00, 13.58it/s]"
     ]
    },
    {
     "name": "stdout",
     "output_type": "stream",
     "text": [
      "0.41183537244796753 0.5057400567703553\n"
     ]
    },
    {
     "name": "stderr",
     "output_type": "stream",
     "text": [
      "\n"
     ]
    }
   ],
   "source": [
    "g.apply_topn(0, True)\n",
    "mean_positional_empty_results = evaluate_graph(model, g, dataloader, partial(metric_fn, loss=False, mean=False), prune=True, intervention='mean-positional', intervention_dataloader=dataloader).mean().item()\n",
    "print(mean_positional_empty_results, mean_positional_empty_results / baseline)"
   ]
  },
  {
   "cell_type": "code",
   "execution_count": 10,
   "metadata": {},
   "outputs": [],
   "source": [
    "from copy import deepcopy\n",
    "corrupted_dataset = deepcopy(dataset)\n",
    "corrupted_dataset.df['clean'] = corrupted_dataset.df['corrupted']"
   ]
  },
  {
   "cell_type": "code",
   "execution_count": 17,
   "metadata": {},
   "outputs": [
    {
     "name": "stderr",
     "output_type": "stream",
     "text": [
      "100%|██████████| 16/16 [00:01<00:00, 14.06it/s]\n"
     ]
    },
    {
     "name": "stdout",
     "output_type": "stream",
     "text": [
      "Computing results for 0.1% of edges (N=32)\n"
     ]
    },
    {
     "name": "stderr",
     "output_type": "stream",
     "text": [
      "Computing mean: 100%|██████████| 16/16 [00:02<00:00,  5.70it/s]\n",
      "100%|██████████| 16/16 [00:01<00:00, 11.99it/s]\n"
     ]
    },
    {
     "name": "stdout",
     "output_type": "stream",
     "text": [
      "-0.09244362672979038\n",
      "Computing results for 0.2% of edges (N=64)\n"
     ]
    },
    {
     "name": "stderr",
     "output_type": "stream",
     "text": [
      "Computing mean: 100%|██████████| 16/16 [00:02<00:00,  5.70it/s]\n",
      "100%|██████████| 16/16 [00:01<00:00, 10.59it/s]\n"
     ]
    },
    {
     "name": "stdout",
     "output_type": "stream",
     "text": [
      "0.356446612004339\n",
      "Computing results for 0.5% of edges (N=162)\n"
     ]
    },
    {
     "name": "stderr",
     "output_type": "stream",
     "text": [
      "Computing mean: 100%|██████████| 16/16 [00:02<00:00,  5.59it/s]\n",
      "100%|██████████| 16/16 [00:01<00:00,  9.34it/s]\n"
     ]
    },
    {
     "name": "stdout",
     "output_type": "stream",
     "text": [
      "0.7991329272452324\n",
      "Computing results for 1.0% of edges (N=324)\n"
     ]
    },
    {
     "name": "stderr",
     "output_type": "stream",
     "text": [
      "Computing mean: 100%|██████████| 16/16 [00:02<00:00,  5.64it/s]\n",
      "100%|██████████| 16/16 [00:02<00:00,  7.25it/s]\n"
     ]
    },
    {
     "name": "stdout",
     "output_type": "stream",
     "text": [
      "0.890616276022796\n",
      "Computing results for 2.0% of edges (N=649)\n"
     ]
    },
    {
     "name": "stderr",
     "output_type": "stream",
     "text": [
      "Computing mean: 100%|██████████| 16/16 [00:02<00:00,  5.70it/s]\n",
      "100%|██████████| 16/16 [00:03<00:00,  5.17it/s]\n"
     ]
    },
    {
     "name": "stdout",
     "output_type": "stream",
     "text": [
      "0.8831035729604466\n",
      "Computing results for 5.0% of edges (N=1624)\n"
     ]
    },
    {
     "name": "stderr",
     "output_type": "stream",
     "text": [
      "Computing mean: 100%|██████████| 16/16 [00:02<00:00,  5.68it/s]\n",
      "100%|██████████| 16/16 [00:03<00:00,  4.35it/s]\n"
     ]
    },
    {
     "name": "stdout",
     "output_type": "stream",
     "text": [
      "1.0117668931332464\n",
      "Computing results for 10.0% of edges (N=3249)\n"
     ]
    },
    {
     "name": "stderr",
     "output_type": "stream",
     "text": [
      "Computing mean: 100%|██████████| 16/16 [00:02<00:00,  5.53it/s]\n",
      "100%|██████████| 16/16 [00:04<00:00,  3.39it/s]\n"
     ]
    },
    {
     "name": "stdout",
     "output_type": "stream",
     "text": [
      "0.8495027104258069\n",
      "Computing results for 20.0% of edges (N=6498)\n"
     ]
    },
    {
     "name": "stderr",
     "output_type": "stream",
     "text": [
      "Computing mean: 100%|██████████| 16/16 [00:03<00:00,  4.18it/s]\n",
      "100%|██████████| 16/16 [00:04<00:00,  3.45it/s]\n"
     ]
    },
    {
     "name": "stdout",
     "output_type": "stream",
     "text": [
      "0.9172569875992347\n",
      "Computing results for 50.0% of edges (N=16245)\n"
     ]
    },
    {
     "name": "stderr",
     "output_type": "stream",
     "text": [
      "Computing mean: 100%|██████████| 16/16 [00:02<00:00,  5.52it/s]\n",
      "100%|██████████| 16/16 [00:05<00:00,  2.92it/s]\n"
     ]
    },
    {
     "name": "stdout",
     "output_type": "stream",
     "text": [
      "0.9364455287123611\n",
      "Computing results for 100% of edges (N=32491)\n"
     ]
    },
    {
     "name": "stderr",
     "output_type": "stream",
     "text": [
      "Computing mean: 100%|██████████| 16/16 [00:02<00:00,  5.51it/s]\n",
      "100%|██████████| 16/16 [00:05<00:00,  2.85it/s]"
     ]
    },
    {
     "name": "stdout",
     "output_type": "stream",
     "text": [
      "1.0\n"
     ]
    },
    {
     "name": "stderr",
     "output_type": "stream",
     "text": [
      "\n"
     ]
    }
   ],
   "source": [
    "area_under, area_from_100, average, faithfulnesses = evaluate_area_under_curve(model, g, dataloader, partial(metric_fn, loss=False, mean=False), prune=True, quiet=False, node_eval=False, neuron_level=False,\n",
    "log_scale=True, absolute=True, intervention='mean-positional', intervention_dataloader=corrupted_dataset.to_dataloader(64))"
   ]
  },
  {
   "cell_type": "code",
   "execution_count": 20,
   "metadata": {},
   "outputs": [
    {
     "name": "stderr",
     "output_type": "stream",
     "text": [
      "100%|██████████| 16/16 [00:01<00:00, 13.21it/s]\n"
     ]
    },
    {
     "name": "stdout",
     "output_type": "stream",
     "text": [
      "Computing results for 0.1% of edges (N=32)\n"
     ]
    },
    {
     "name": "stderr",
     "output_type": "stream",
     "text": [
      "Computing mean: 100%|██████████| 16/16 [00:02<00:00,  7.52it/s]\n",
      "100%|██████████| 16/16 [00:01<00:00, 11.86it/s]\n"
     ]
    },
    {
     "name": "stdout",
     "output_type": "stream",
     "text": [
      "-0.023308513686808578\n",
      "Computing results for 0.2% of edges (N=64)\n"
     ]
    },
    {
     "name": "stderr",
     "output_type": "stream",
     "text": [
      "Computing mean: 100%|██████████| 16/16 [00:01<00:00,  9.18it/s]\n",
      "100%|██████████| 16/16 [00:01<00:00, 10.36it/s]\n"
     ]
    },
    {
     "name": "stdout",
     "output_type": "stream",
     "text": [
      "-0.01198164959200882\n",
      "Computing results for 0.5% of edges (N=162)\n"
     ]
    },
    {
     "name": "stderr",
     "output_type": "stream",
     "text": [
      "Computing mean: 100%|██████████| 16/16 [00:01<00:00,  9.39it/s]\n",
      "100%|██████████| 16/16 [00:01<00:00,  9.50it/s]\n"
     ]
    },
    {
     "name": "stdout",
     "output_type": "stream",
     "text": [
      "-0.042836672324671386\n",
      "Computing results for 1.0% of edges (N=324)\n"
     ]
    },
    {
     "name": "stderr",
     "output_type": "stream",
     "text": [
      "Computing mean: 100%|██████████| 16/16 [00:01<00:00,  9.53it/s]\n",
      "100%|██████████| 16/16 [00:02<00:00,  7.40it/s]\n"
     ]
    },
    {
     "name": "stdout",
     "output_type": "stream",
     "text": [
      "-0.013640797260808399\n",
      "Computing results for 2.0% of edges (N=649)\n"
     ]
    },
    {
     "name": "stderr",
     "output_type": "stream",
     "text": [
      "Computing mean: 100%|██████████| 16/16 [00:01<00:00,  9.66it/s]\n",
      "100%|██████████| 16/16 [00:02<00:00,  5.56it/s]\n"
     ]
    },
    {
     "name": "stdout",
     "output_type": "stream",
     "text": [
      "-0.0018839437635594486\n",
      "Computing results for 5.0% of edges (N=1624)\n"
     ]
    },
    {
     "name": "stderr",
     "output_type": "stream",
     "text": [
      "Computing mean: 100%|██████████| 16/16 [00:01<00:00,  9.60it/s]\n",
      "100%|██████████| 16/16 [00:03<00:00,  4.35it/s]\n"
     ]
    },
    {
     "name": "stdout",
     "output_type": "stream",
     "text": [
      "-0.0039004721378035232\n",
      "Computing results for 10.0% of edges (N=3249)\n"
     ]
    },
    {
     "name": "stderr",
     "output_type": "stream",
     "text": [
      "Computing mean: 100%|██████████| 16/16 [00:01<00:00,  9.48it/s]\n",
      "100%|██████████| 16/16 [00:04<00:00,  3.43it/s]\n"
     ]
    },
    {
     "name": "stdout",
     "output_type": "stream",
     "text": [
      "-0.005748425063643404\n",
      "Computing results for 20.0% of edges (N=6498)\n"
     ]
    },
    {
     "name": "stderr",
     "output_type": "stream",
     "text": [
      "Computing mean: 100%|██████████| 16/16 [00:01<00:00,  9.52it/s]\n",
      "100%|██████████| 16/16 [00:04<00:00,  3.44it/s]\n"
     ]
    },
    {
     "name": "stdout",
     "output_type": "stream",
     "text": [
      "-0.008445109005340337\n",
      "Computing results for 50.0% of edges (N=16245)\n"
     ]
    },
    {
     "name": "stderr",
     "output_type": "stream",
     "text": [
      "Computing mean: 100%|██████████| 16/16 [00:01<00:00,  9.66it/s]\n",
      "100%|██████████| 16/16 [00:05<00:00,  2.89it/s]\n"
     ]
    },
    {
     "name": "stdout",
     "output_type": "stream",
     "text": [
      "0.04274510944908747\n",
      "Computing results for 100% of edges (N=32491)\n"
     ]
    },
    {
     "name": "stderr",
     "output_type": "stream",
     "text": [
      "Computing mean: 100%|██████████| 16/16 [00:01<00:00,  9.61it/s]\n",
      "100%|██████████| 16/16 [00:05<00:00,  2.81it/s]"
     ]
    },
    {
     "name": "stdout",
     "output_type": "stream",
     "text": [
      "1.0\n"
     ]
    },
    {
     "name": "stderr",
     "output_type": "stream",
     "text": [
      "\n"
     ]
    }
   ],
   "source": [
    "area_under, area_from_100, average, faithfulnesses = evaluate_area_under_curve(model, g, dataloader, partial(metric_fn, loss=False, mean=False), prune=True, quiet=False, node_eval=False, neuron_level=False,\n",
    "log_scale=True, absolute=True, intervention='mean', intervention_dataloader=corrupted_dataset.to_dataloader(64))"
   ]
  },
  {
   "cell_type": "code",
   "execution_count": null,
   "metadata": {},
   "outputs": [],
   "source": []
  }
 ],
 "metadata": {
  "kernelspec": {
   "display_name": "mib-subgraph",
   "language": "python",
   "name": "python3"
  },
  "language_info": {
   "codemirror_mode": {
    "name": "ipython",
    "version": 3
   },
   "file_extension": ".py",
   "mimetype": "text/x-python",
   "name": "python",
   "nbconvert_exporter": "python",
   "pygments_lexer": "ipython3",
   "version": "3.12.7"
  }
 },
 "nbformat": 4,
 "nbformat_minor": 2
}
