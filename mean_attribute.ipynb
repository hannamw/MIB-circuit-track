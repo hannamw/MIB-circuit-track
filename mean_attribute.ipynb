{
 "cells": [
  {
   "cell_type": "code",
   "execution_count": 12,
   "metadata": {},
   "outputs": [],
   "source": [
    "from functools import partial\n",
    "\n",
    "import torch\n",
    "from torch.utils.data import DataLoader\n",
    "from transformer_lens import HookedTransformer\n",
    "from datasets import load_dataset\n",
    "\n",
    "from graph import Graph\n",
    "from dataset import EAPDataset\n",
    "from attribute import attribute\n",
    "from metrics import get_metric\n",
    "from evaluate_graph import evaluate_graph, evaluate_baseline, evaluate_area_under_curve"
   ]
  },
  {
   "cell_type": "code",
   "execution_count": 13,
   "metadata": {},
   "outputs": [
    {
     "name": "stdout",
     "output_type": "stream",
     "text": [
      "Loaded pretrained model gpt2-small into HookedTransformer\n"
     ]
    }
   ],
   "source": [
    "model = HookedTransformer.from_pretrained(\"gpt2-small\", device=\"cuda\")\n",
    "model.cfg.use_split_qkv_input = True\n",
    "model.cfg.use_attn_result = True\n",
    "model.cfg.use_hook_mlp_in = True"
   ]
  },
  {
   "cell_type": "code",
   "execution_count": 14,
   "metadata": {},
   "outputs": [],
   "source": [
    "dataset = EAPDataset(\"greater-than-gpt2.csv\")\n",
    "dataset.head(500)\n",
    "dataloader = dataset.to_dataloader(64)\n",
    "metric_fn = get_metric(\"prob_diff\", \"greater-than\", model.tokenizer, model)"
   ]
  },
  {
   "cell_type": "markdown",
   "metadata": {},
   "source": [
    "This cell uses activation-space EAP-IG with 5 steps to attribute using patching"
   ]
  },
  {
   "cell_type": "code",
   "execution_count": 15,
   "metadata": {},
   "outputs": [
    {
     "name": "stderr",
     "output_type": "stream",
     "text": [
      "  0%|          | 0/8 [00:00<?, ?it/s]"
     ]
    },
    {
     "name": "stderr",
     "output_type": "stream",
     "text": [
      "100%|██████████| 8/8 [02:07<00:00, 15.91s/it]\n",
      "100%|██████████| 32491/32491 [00:00<00:00, 205696.98it/s]\n",
      "100%|██████████| 8/8 [00:01<00:00,  5.88it/s]\n",
      "100%|██████████| 8/8 [00:00<00:00, 14.19it/s]"
     ]
    },
    {
     "name": "stdout",
     "output_type": "stream",
     "text": [
      "Faithfulness: 0.7839652423889335\n"
     ]
    },
    {
     "name": "stderr",
     "output_type": "stream",
     "text": [
      "\n"
     ]
    }
   ],
   "source": [
    "g = Graph.from_model(model)\n",
    "attribute(model, g, dataloader, partial(metric_fn, loss=True, mean=True), method='EAP-IG-activations', ig_steps=5)\n",
    "g.apply_greedy(250)\n",
    "results = evaluate_graph(model, g, dataloader, partial(metric_fn, loss=False, mean=False), prune=True).mean().item()\n",
    "baseline = evaluate_baseline(model, dataloader, partial(metric_fn, loss=False, mean=False)).mean().item()\n",
    "print(f\"Faithfulness: {results / baseline}\")"
   ]
  },
  {
   "cell_type": "markdown",
   "metadata": {},
   "source": [
    "Same thing, but EAP-IG in input space, which strangely enough does better (normally they're about the same)"
   ]
  },
  {
   "cell_type": "code",
   "execution_count": 16,
   "metadata": {},
   "outputs": [
    {
     "name": "stderr",
     "output_type": "stream",
     "text": [
      "100%|██████████| 8/8 [00:05<00:00,  1.43it/s]\n",
      "100%|██████████| 32491/32491 [00:00<00:00, 201420.28it/s]\n",
      "100%|██████████| 8/8 [00:01<00:00,  6.13it/s]"
     ]
    },
    {
     "name": "stdout",
     "output_type": "stream",
     "text": [
      "Faithfulness: 0.9261200085790293\n"
     ]
    },
    {
     "name": "stderr",
     "output_type": "stream",
     "text": [
      "\n"
     ]
    }
   ],
   "source": [
    "g2 = Graph.from_model(model)\n",
    "attribute(model, g2, dataloader, partial(metric_fn, loss=True, mean=True), method='EAP-IG-inputs', ig_steps=5)\n",
    "g2.apply_greedy(250)\n",
    "results = evaluate_graph(model, g2, dataloader, partial(metric_fn, loss=False, mean=False), prune=True).mean().item()\n",
    "print(f\"Faithfulness: {results / baseline}\")"
   ]
  },
  {
   "cell_type": "markdown",
   "metadata": {},
   "source": [
    "What about if we apply zero ablations to these graphs?"
   ]
  },
  {
   "cell_type": "code",
   "execution_count": 17,
   "metadata": {},
   "outputs": [
    {
     "name": "stderr",
     "output_type": "stream",
     "text": [
      "  0%|          | 0/8 [00:00<?, ?it/s]"
     ]
    },
    {
     "name": "stderr",
     "output_type": "stream",
     "text": [
      "100%|██████████| 8/8 [00:01<00:00,  7.04it/s]"
     ]
    },
    {
     "name": "stdout",
     "output_type": "stream",
     "text": [
      "Faithfulness: -2.045945751205287e-05\n"
     ]
    },
    {
     "name": "stderr",
     "output_type": "stream",
     "text": [
      "\n"
     ]
    }
   ],
   "source": [
    "results = evaluate_graph(model, g, dataloader, partial(metric_fn, loss=False, mean=False), prune=True, intervention='zero').mean().item()\n",
    "print(f\"Faithfulness: {results / baseline}\")"
   ]
  },
  {
   "cell_type": "markdown",
   "metadata": {},
   "source": [
    "And if we use an attribution method that natively uses zero gradients? Also consider trying with more ig_steps!"
   ]
  },
  {
   "cell_type": "code",
   "execution_count": 19,
   "metadata": {},
   "outputs": [
    {
     "name": "stderr",
     "output_type": "stream",
     "text": [
      "100%|██████████| 8/8 [02:06<00:00, 15.86s/it]\n",
      "100%|██████████| 32491/32491 [00:00<00:00, 213917.04it/s]\n",
      "100%|██████████| 8/8 [00:00<00:00,  9.01it/s]"
     ]
    },
    {
     "name": "stdout",
     "output_type": "stream",
     "text": [
      "Faithfulness: -0.0007790679122014042\n"
     ]
    },
    {
     "name": "stderr",
     "output_type": "stream",
     "text": [
      "\n"
     ]
    }
   ],
   "source": [
    "g3 = Graph.from_model(model)\n",
    "attribute(model, g3, dataloader, partial(metric_fn, loss=True, mean=True), method='EAP-IG-activations', intervention='zero', ig_steps=5)\n",
    "g3.apply_greedy(250)\n",
    "results = evaluate_graph(model, g3, dataloader, partial(metric_fn, loss=False, mean=False), prune=True, intervention='zero').mean().item()\n",
    "print(f\"Faithfulness: {results / baseline}\")"
   ]
  },
  {
   "cell_type": "markdown",
   "metadata": {},
   "source": [
    "What about the reverse—zero attribution but patching evaluation?"
   ]
  },
  {
   "cell_type": "code",
   "execution_count": null,
   "metadata": {},
   "outputs": [
    {
     "name": "stderr",
     "output_type": "stream",
     "text": [
      "100%|██████████| 8/8 [00:02<00:00,  2.83it/s]\n",
      "100%|██████████| 8/8 [00:00<00:00, 14.11it/s]"
     ]
    },
    {
     "name": "stdout",
     "output_type": "stream",
     "text": [
      "Faithfulness: 0.33430727842985763\n"
     ]
    },
    {
     "name": "stderr",
     "output_type": "stream",
     "text": [
      "\n"
     ]
    }
   ],
   "source": [
    "g3.apply_greedy(250)\n",
    "results = evaluate_graph(model, g3, dataloader, partial(metric_fn, loss=False, mean=False), prune=True, intervention='zero').mean().item()\n",
    "baseline = evaluate_baseline(model, dataloader, partial(metric_fn, loss=False, mean=False)).mean().item()\n",
    "print(f\"Faithfulness: {results / baseline}\")"
   ]
  },
  {
   "cell_type": "markdown",
   "metadata": {},
   "source": [
    "Now, let's do some mean ablations! Here's a generic dataset:"
   ]
  },
  {
   "cell_type": "code",
   "execution_count": 20,
   "metadata": {},
   "outputs": [],
   "source": [
    "mean_dataset = load_dataset('stas/openwebtext-10k', split='train')\n",
    "intervention_dataloader = DataLoader(mean_dataset['text'][:1000], batch_size=16)"
   ]
  },
  {
   "cell_type": "markdown",
   "metadata": {},
   "source": [
    "Let's do mean ablations on a graph scored with patching ablations"
   ]
  },
  {
   "cell_type": "code",
   "execution_count": 30,
   "metadata": {},
   "outputs": [
    {
     "name": "stderr",
     "output_type": "stream",
     "text": [
      "Computing mean: 100%|██████████| 63/63 [00:21<00:00,  2.87it/s]\n",
      "100%|██████████| 8/8 [00:01<00:00,  7.04it/s]"
     ]
    },
    {
     "name": "stdout",
     "output_type": "stream",
     "text": [
      "Faithfulness: -2.112404321439537e-05\n"
     ]
    },
    {
     "name": "stderr",
     "output_type": "stream",
     "text": [
      "\n"
     ]
    }
   ],
   "source": [
    "results = evaluate_graph(model, g, dataloader, partial(metric_fn, loss=False, mean=False), prune=True, intervention='mean', intervention_dataloader=intervention_dataloader).mean().item()\n",
    "print(f\"Faithfulness: {results / baseline}\")"
   ]
  },
  {
   "cell_type": "markdown",
   "metadata": {},
   "source": [
    "And now on a graph scored with mean ablations"
   ]
  },
  {
   "cell_type": "code",
   "execution_count": 22,
   "metadata": {},
   "outputs": [
    {
     "name": "stderr",
     "output_type": "stream",
     "text": [
      "Computing mean: 100%|██████████| 63/63 [00:21<00:00,  2.88it/s]\n",
      "100%|██████████| 8/8 [02:06<00:00, 15.80s/it]\n",
      "100%|██████████| 32491/32491 [00:00<00:00, 212949.32it/s]\n",
      "Computing mean: 100%|██████████| 63/63 [00:22<00:00,  2.85it/s]\n",
      "100%|██████████| 8/8 [00:00<00:00,  8.74it/s]"
     ]
    },
    {
     "name": "stdout",
     "output_type": "stream",
     "text": [
      "Faithfulness: -0.0007573959612862081\n"
     ]
    },
    {
     "name": "stderr",
     "output_type": "stream",
     "text": [
      "\n"
     ]
    }
   ],
   "source": [
    "g4 = Graph.from_model(model)\n",
    "attribute(model, g4, dataloader, partial(metric_fn, loss=True, mean=True), method='EAP-IG-activations', intervention='mean', ig_steps=5, intervention_dataloader=intervention_dataloader)\n",
    "g4.apply_greedy(250)\n",
    "results = evaluate_graph(model, g4, dataloader, partial(metric_fn, loss=False, mean=False), prune=True, intervention='mean', intervention_dataloader=intervention_dataloader).mean().item()\n",
    "print(f\"Faithfulness: {results / baseline}\")"
   ]
  },
  {
   "cell_type": "markdown",
   "metadata": {},
   "source": [
    "What if we do positional ablations, which preserve task information? We can do this using either the original dataset (but note that in the greater-than task, this leads to positional mean ablations being a less-destructive ablation than patching) or just the corrupted version of the dataset. Let's start with the original:"
   ]
  },
  {
   "cell_type": "code",
   "execution_count": 28,
   "metadata": {},
   "outputs": [
    {
     "name": "stderr",
     "output_type": "stream",
     "text": [
      "Computing mean: 100%|██████████| 8/8 [00:01<00:00,  5.78it/s]\n",
      "100%|██████████| 8/8 [00:01<00:00,  7.10it/s]"
     ]
    },
    {
     "name": "stdout",
     "output_type": "stream",
     "text": [
      "Faithfulness: 0.9017045250395437\n"
     ]
    },
    {
     "name": "stderr",
     "output_type": "stream",
     "text": [
      "\n"
     ]
    }
   ],
   "source": [
    "results = evaluate_graph(model, g, dataloader, partial(metric_fn, loss=False, mean=False), prune=True, intervention='mean-positional', intervention_dataloader=dataloader).mean().item()\n",
    "print(f\"Faithfulness: {results / baseline}\")"
   ]
  },
  {
   "cell_type": "code",
   "execution_count": 24,
   "metadata": {},
   "outputs": [
    {
     "name": "stderr",
     "output_type": "stream",
     "text": [
      "Computing mean: 100%|██████████| 8/8 [00:02<00:00,  3.61it/s]\n",
      "100%|██████████| 8/8 [02:05<00:00, 15.74s/it]\n",
      "100%|██████████| 32491/32491 [00:00<00:00, 202402.10it/s]\n",
      "Computing mean: 100%|██████████| 8/8 [00:01<00:00,  5.73it/s]\n",
      "100%|██████████| 8/8 [00:00<00:00,  8.00it/s]"
     ]
    },
    {
     "name": "stdout",
     "output_type": "stream",
     "text": [
      "Faithfulness: 0.9145310149099368\n"
     ]
    },
    {
     "name": "stderr",
     "output_type": "stream",
     "text": [
      "\n"
     ]
    }
   ],
   "source": [
    "g5 = Graph.from_model(model)\n",
    "attribute(model, g5, dataloader, partial(metric_fn, loss=True, mean=True), method='EAP-IG-activations', intervention='mean-positional', ig_steps=5, intervention_dataloader=dataloader)\n",
    "g5.apply_greedy(250)\n",
    "results = evaluate_graph(model, g5, dataloader, partial(metric_fn, loss=False, mean=False), prune=True, intervention='mean-positional', intervention_dataloader=dataloader).mean().item()\n",
    "print(f\"Faithfulness: {results / baseline}\")"
   ]
  },
  {
   "cell_type": "markdown",
   "metadata": {},
   "source": [
    "And then try the corrupted:"
   ]
  },
  {
   "cell_type": "code",
   "execution_count": 25,
   "metadata": {},
   "outputs": [],
   "source": [
    "from copy import deepcopy\n",
    "corrupted_dataset = deepcopy(dataset)\n",
    "corrupted_dataset.df['clean'] = corrupted_dataset.df['corrupted']\n",
    "corrupted_dataloader = corrupted_dataset.to_dataloader(16)"
   ]
  },
  {
   "cell_type": "code",
   "execution_count": 29,
   "metadata": {},
   "outputs": [
    {
     "name": "stderr",
     "output_type": "stream",
     "text": [
      "Computing mean: 100%|██████████| 32/32 [00:05<00:00,  5.60it/s]\n",
      "100%|██████████| 8/8 [00:01<00:00,  7.05it/s]"
     ]
    },
    {
     "name": "stdout",
     "output_type": "stream",
     "text": [
      "Faithfulness: 0.7456998058356434\n"
     ]
    },
    {
     "name": "stderr",
     "output_type": "stream",
     "text": [
      "\n"
     ]
    }
   ],
   "source": [
    "results = evaluate_graph(model, g, dataloader, partial(metric_fn, loss=False, mean=False), prune=True, intervention='mean-positional', intervention_dataloader=corrupted_dataloader).mean().item()\n",
    "print(f\"Faithfulness: {results / baseline}\")"
   ]
  },
  {
   "cell_type": "code",
   "execution_count": 27,
   "metadata": {},
   "outputs": [
    {
     "name": "stderr",
     "output_type": "stream",
     "text": [
      "Computing mean: 100%|██████████| 32/32 [00:05<00:00,  5.47it/s]\n",
      "100%|██████████| 8/8 [02:07<00:00, 15.88s/it]\n",
      "100%|██████████| 32491/32491 [00:00<00:00, 199661.17it/s]\n",
      "Computing mean: 100%|██████████| 32/32 [00:05<00:00,  5.53it/s]\n",
      "100%|██████████| 8/8 [00:01<00:00,  7.56it/s]"
     ]
    },
    {
     "name": "stdout",
     "output_type": "stream",
     "text": [
      "Faithfulness: 0.7835840997563741\n"
     ]
    },
    {
     "name": "stderr",
     "output_type": "stream",
     "text": [
      "\n"
     ]
    }
   ],
   "source": [
    "g6 = Graph.from_model(model)\n",
    "attribute(model, g6, dataloader, partial(metric_fn, loss=True, mean=True), method='EAP-IG-activations', intervention='mean-positional', ig_steps=5, intervention_dataloader=corrupted_dataloader)\n",
    "g6.apply_greedy(250)\n",
    "results = evaluate_graph(model, g6, dataloader, partial(metric_fn, loss=False, mean=False), prune=True, intervention='mean-positional', intervention_dataloader=corrupted_dataloader).mean().item()\n",
    "print(f\"Faithfulness: {results / baseline}\")"
   ]
  },
  {
   "cell_type": "code",
   "execution_count": null,
   "metadata": {},
   "outputs": [],
   "source": []
  }
 ],
 "metadata": {
  "kernelspec": {
   "display_name": "base",
   "language": "python",
   "name": "python3"
  },
  "language_info": {
   "codemirror_mode": {
    "name": "ipython",
    "version": 3
   },
   "file_extension": ".py",
   "mimetype": "text/x-python",
   "name": "python",
   "nbconvert_exporter": "python",
   "pygments_lexer": "ipython3",
   "version": "3.12.7"
  }
 },
 "nbformat": 4,
 "nbformat_minor": 2
}
